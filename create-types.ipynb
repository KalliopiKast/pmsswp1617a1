{
 "cells": [
  {
   "cell_type": "code",
   "execution_count": 10,
   "metadata": {
    "collapsed": false
   },
   "outputs": [
    {
     "name": "stdout",
     "output_type": "stream",
     "text": [
      "_:0 <http://www.w3.org/1999/02/22-rdf-syntax-ns#type> <http://dilab77.ionio.gr/swp/p12kast/vocab#Lecture> .\n",
      "<http://dilab77.ionio.gr/swp/p12kast/resource/Μυλωνάς> <http://www.w3.org/1999/02/22-rdf-syntax-ns#type> <http://dilab77.ionio.gr/swp/p12kast/vocab#Teacher> .\n",
      "<http://dilab77.ionio.gr/swp/p12kast/resource/Αίθουσα%20ΠΜΣ> <http://www.w3.org/1999/02/22-rdf-syntax-ns#type> <http://dilab77.ionio.gr/swp/p12kast/vocab#Room> .\n",
      "<http://dilab77.ionio.gr/swp/p12kast/resource/Εξόρυξη%20δεδομένων%20και%20διαχείριση%20γνώσης> <http://www.w3.org/1999/02/22-rdf-syntax-ns#type> <http://dilab77.ionio.gr/swp/p12kast/vocab#Course> .\n",
      "_:1 <http://www.w3.org/1999/02/22-rdf-syntax-ns#type> <http://dilab77.ionio.gr/swp/p12kast/vocab#Lecture> .\n",
      "<http://dilab77.ionio.gr/swp/p12kast/resource/Στεφανιδάκης> <http://www.w3.org/1999/02/22-rdf-syntax-ns#type> <http://dilab77.ionio.gr/swp/p12kast/vocab#Teacher> .\n",
      "<http://dilab77.ionio.gr/swp/p12kast/resource/Προγραμματισμός%20Σημασιολογικού%20Ιστού> <http://www.w3.org/1999/02/22-rdf-syntax-ns#type> <http://dilab77.ionio.gr/swp/p12kast/vocab#Course> .\n",
      "_:2 <http://www.w3.org/1999/02/22-rdf-syntax-ns#type> <http://dilab77.ionio.gr/swp/p12kast/vocab#Lecture> .\n",
      "<http://dilab77.ionio.gr/swp/p12kast/resource/Βλάμος> <http://www.w3.org/1999/02/22-rdf-syntax-ns#type> <http://dilab77.ionio.gr/swp/p12kast/vocab#Teacher> .\n",
      "<http://dilab77.ionio.gr/swp/p12kast/resource/Βιοπληροφορική> <http://www.w3.org/1999/02/22-rdf-syntax-ns#type> <http://dilab77.ionio.gr/swp/p12kast/vocab#Course> .\n"
     ]
    }
   ],
   "source": [
    "import csv\n",
    "triple=[]\n",
    "with open ('schedule-uris.csv', 'r',newline='')as ifp:\n",
    "    reader=csv.reader(ifp)\n",
    "    headers=next(reader)\n",
    "    for row in reader:\n",
    "        triple.append(row)\n",
    "        \n",
    "#print(triple)\n",
    "ntriple=[]\n",
    "with open('schedule-data.nt','w') as ofp:\n",
    "    visited=set()\n",
    "    for uri,p,o in triple:\n",
    "        if uri not in visited:\n",
    "            visited.add(uri)\n",
    "            print('{} {} {} .'.format(uri,'<http://www.w3.org/1999/02/22-rdf-syntax-ns#type>','<http://dilab77.ionio.gr/swp/p12kast/vocab#Lecture>'))\n",
    "            ofp.write('{} {} {} . \\n'.format(uri,'<http://www.w3.org/1999/02/22-rdf-syntax-ns#type>','<http://dilab77.ionio.gr/swp/p12kast/vocab#Lecture>'))\n",
    "        p='<'+p+'>'\n",
    "        if p=='<http://dilab77.ionio.gr/swp/p12kast/vocab#Έναρξη>' or p=='<http://dilab77.ionio.gr/swp/p12kast/vocab#Λήξη>':\n",
    "            o='\"'+o[2:]+'\"^^<http://www.w3.org/2001/XMLSchema#time>'\n",
    "        if p=='<http://dilab77.ionio.gr/swp/p12kast/vocab#Εξάμηνο':\n",
    "            o='\"'+o[-2]+'\"'\n",
    "        else:\n",
    "            o='<'+o+'>'\n",
    "        ntriple.append([uri,p,o])\n",
    "        #print(ntriple)\n",
    "        if p=='<http://dilab77.ionio.gr/swp/p12kast/vocab#Διδάσκων>': #or row[1]\n",
    "            if o not in visited:\n",
    "                visited.add(o)\n",
    "                print('{} {} {} .'.format(o,'<http://www.w3.org/1999/02/22-rdf-syntax-ns#type>','<http://dilab77.ionio.gr/swp/p12kast/vocab#Teacher>'))\n",
    "                ofp.write('{} {} {} . \\n'.format(o,'<http://www.w3.org/1999/02/22-rdf-syntax-ns#type>','<http://dilab77.ionio.gr/swp/p12kast/vocab#Teacher>'))\n",
    "        if p=='<http://dilab77.ionio.gr/swp/p12kast/vocab#Άιθουσα>': #or row[1]\n",
    "            if o not in visited:\n",
    "                visited.add(o)\n",
    "                print('{} {} {} .'.format(o,'<http://www.w3.org/1999/02/22-rdf-syntax-ns#type>','<http://dilab77.ionio.gr/swp/p12kast/vocab#Room>'))\n",
    "                ofp.write('{} {} {} . \\n'.format(o,'<http://www.w3.org/1999/02/22-rdf-syntax-ns#type>','<http://dilab77.ionio.gr/swp/p12kast/vocab#Room>'))\n",
    "        if p=='<http://dilab77.ionio.gr/swp/p12kast/vocab#Μάθημα>': #or row[1]\n",
    "            if o not in visited:\n",
    "                visited.add(o)\n",
    "                print('{} {} {} .'.format(o,'<http://www.w3.org/1999/02/22-rdf-syntax-ns#type>','<http://dilab77.ionio.gr/swp/p12kast/vocab#Course>'))\n",
    "                ofp.write('{} {} {} . \\n'.format(o,'<http://www.w3.org/1999/02/22-rdf-syntax-ns#type>','<http://dilab77.ionio.gr/swp/p12kast/vocab#Course>'))"
   ]
  },
  {
   "cell_type": "code",
   "execution_count": 3,
   "metadata": {
    "collapsed": false
   },
   "outputs": [],
   "source": [
    "!riot --validate schedule-vocab.ttl"
   ]
  },
  {
   "cell_type": "code",
   "execution_count": 11,
   "metadata": {
    "collapsed": false
   },
   "outputs": [],
   "source": [
    "!riot --validate schedule-data.nt"
   ]
  },
  {
   "cell_type": "code",
   "execution_count": null,
   "metadata": {
    "collapsed": true
   },
   "outputs": [],
   "source": []
  }
 ],
 "metadata": {
  "kernelspec": {
   "display_name": "Python 3",
   "language": "python",
   "name": "python3"
  },
  "language_info": {
   "codemirror_mode": {
    "name": "ipython",
    "version": 3
   },
   "file_extension": ".py",
   "mimetype": "text/x-python",
   "name": "python",
   "nbconvert_exporter": "python",
   "pygments_lexer": "ipython3",
   "version": "3.4.4"
  }
 },
 "nbformat": 4,
 "nbformat_minor": 1
}
