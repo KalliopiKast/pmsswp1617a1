{
 "cells": [
  {
   "cell_type": "markdown",
   "metadata": {},
   "source": [
    "# Notebook για την παραγωγή των δεδομένων N-Triples (1η εργασία).\n",
    "\n",
    "Χρησιμοποιήστε τον κώδικα από το [notebook του 5ου εργαστηρίου](https://github.com/mixstef/courses/blob/master/pms-swp/schedule4.ipynb) με τις κατάλληλες αλλαγές για να φτιάξετε το αρχείο `schedule-data.nt` της **1ης εργασίας**.\n",
    "\n",
    "Προσθέστε τον κώδικά σας στα επόμενα κελιά."
   ]
  },
  {
   "cell_type": "code",
   "execution_count": null,
   "metadata": {
    "collapsed": true
   },
   "outputs": [],
   "source": ["
import csv
triple=[]
with open ('schedule-uris.csv', 'r',newline='')as ifp:
    reader=csv.reader(ifp)
    headers=next(reader)
    for row in reader:
        triple.append(row)
        
#print(triple)
ntriple=[]
with open('schedule-data.nt','w') as ofp:
    #reader=csv.reader(ifp)
    visited=set()
    for uri,p,o in triple:
        if uri not in visited:
            visited.add(uri)
            print('{} {} {} .'.format(uri,'<http://www.w3.org/1999/02/22-rdf-syntax-ns#type>','<http://dilab77.ionio.gr/swp/p12kast/vocab#Lecture>'))
            ofp.write('{} {} {} . \n'.format(uri,'<http://www.w3.org/1999/02/22-rdf-syntax-ns#type>','<http://dilab77.ionio.gr/swp/p12kast/vocab#Lecture>'))
        p='<'+p+'>'
        if p=='<http://dilab77.ionio.gr/swp/p12kast/vocab#Έναρξη>' or p=='<http://dilab77.ionio.gr/swp/p12kast/vocab#Λήξη>':
            o='"'+o[2:]+'"^^<http://www.w3.org/2001/XMLSchema#time>'
        if p=='<http://dilab77.ionio.gr/swp/p12kast/vocab#Εξάμηνο':
            o='"'+o[-2]+'"'
        ntriple.append([uri,p,o])
        #print(ntriple)
        if p=='<http://dilab77.ionio.gr/swp/p12kast/vocab#Διδάσκων>': #or row[1]
            if o not in visited:
                visited.add(o)
                print('{} {} {} .'.format(o,'<http://www.w3.org/1999/02/22-rdf-syntax-ns#type>','<http://dilab77.ionio.gr/swp/p12kast/vocab#Teacher>'))
                ofp.write('{} {} {} . \n'.format(o,'<http://www.w3.org/1999/02/22-rdf-syntax-ns#type>','<http://dilab77.ionio.gr/swp/p12kast/vocab#Teacher>'))
        if p=='<http://dilab77.ionio.gr/swp/p12kast/vocab#Άιθουσα>': #or row[1]
            if o not in visited:
                visited.add(o)
                print('{} {} {} .'.format(o,'<http://www.w3.org/1999/02/22-rdf-syntax-ns#type>','<http://dilab77.ionio.gr/swp/p12kast/vocab#Room>'))
                ofp.write('{} {} {} . \n'.format(o,'<http://www.w3.org/1999/02/22-rdf-syntax-ns#type>','<http://dilab77.ionio.gr/swp/p12kast/vovab#Room'))
        if p=='<http://dilab77.ionio.gr/swp/p12kast/vocab#Μάθημα>': #or row[1]
            if o not in visited:
                visited.add(o)
                print('{} {} {} .'.format(o,'<http://www.w3.org/1999/02/22-rdf-syntax-ns#type>','<http://dilab77.ionio.gr/swp/p12kast/vocab#Course>'))
                ofp.write('{} {} {} . \n'.format(o,'<http://www.w3.org/1999/02/22-rdf-syntax-ns#type>','<http://dilab77.ionio.gr/swp/p12kast/vocab#Course>'))"]
  }
 ],
 "metadata": {
  "kernelspec": {
   "display_name": "Python 3",
   "language": "python",
   "name": "python3"
  },
  "language_info": {
   "codemirror_mode": {
    "name": "ipython",
    "version": 3
   },
   "file_extension": ".py",
   "mimetype": "text/x-python",
   "name": "python",
   "nbconvert_exporter": "python",
   "pygments_lexer": "ipython3",
   "version": "3.4.4"
  }
 },
 "nbformat": 4,
 "nbformat_minor": 0
}
