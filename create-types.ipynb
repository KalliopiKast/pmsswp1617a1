{
 "cells": [
  {
   "cell_type": "markdown",
   "metadata": {},
   "source": [
    "# Notebook για την παραγωγή των δεδομένων N-Triples (1η εργασία).\n",
    "\n",
    "Χρησιμοποιήστε τον κώδικα από το [notebook του 5ου εργαστηρίου](https://github.com/mixstef/courses/blob/master/pms-swp/schedule4.ipynb) με τις κατάλληλες αλλαγές για να φτιάξετε το αρχείο `schedule-data.nt` της **1ης εργασίας**.\n",
    "\n",
    "Προσθέστε τον κώδικά σας στα επόμενα κελιά."
   ]
  },
  {
   "cell_type": "code",
   "execution_count": null,
   "metadata": {
    "collapsed": true
   },
   "outputs": [],
   "source": ["_:0 <http://www.w3.org/1999/02/22-rdf-syntax-ns#type> <http://dilab77.ionio.gr/swp/p12kast/vocab#Lecture> . 
<http://dilab77.ionio.gr/swp/p12kast/resource/Μυλωνάς> <http://www.w3.org/1999/02/22-rdf-syntax-ns#type> <http://dilab77.ionio.gr/swp/p12kast/vocab#Teacher> . 
<http://dilab77.ionio.gr/swp/p12kast/resource/Αίθουσα%20ΠΜΣ> <http://www.w3.org/1999/02/22-rdf-syntax-ns#type> <http://dilab77.ionio.gr/swp/p12kast/vocab#Room> . 
<http://dilab77.ionio.gr/swp/p12kast/resource/Εξόρυξη%20δεδομένων%20και%20διαχείριση%20γνώσης> <http://www.w3.org/1999/02/22-rdf-syntax-ns#type> <http://dilab77.ionio.gr/swp/p12kast/vocab#Course> . 
_:1 <http://www.w3.org/1999/02/22-rdf-syntax-ns#type> <http://dilab77.ionio.gr/swp/p12kast/vocab#Lecture> . 
<http://dilab77.ionio.gr/swp/p12kast/resource/Στεφανιδάκης> <http://www.w3.org/1999/02/22-rdf-syntax-ns#type> <http://dilab77.ionio.gr/swp/p12kast/vocab#Teacher> . 
<http://dilab77.ionio.gr/swp/p12kast/resource/Προγραμματισμός%20Σημασιολογικού%20Ιστού> <http://www.w3.org/1999/02/22-rdf-syntax-ns#type> <http://dilab77.ionio.gr/swp/p12kast/vocab#Course> . 
_:2 <http://www.w3.org/1999/02/22-rdf-syntax-ns#type> <http://dilab77.ionio.gr/swp/p12kast/vocab#Lecture> . 
<http://dilab77.ionio.gr/swp/p12kast/resource/Βλάμος> <http://www.w3.org/1999/02/22-rdf-syntax-ns#type> <http://dilab77.ionio.gr/swp/p12kast/vocab#Teacher> . 
<http://dilab77.ionio.gr/swp/p12kast/resource/Βιοπληροφορική> <http://www.w3.org/1999/02/22-rdf-syntax-ns#type> <http://dilab77.ionio.gr/swp/p12kast/vocab#Course> . 
"]
  }
 ],
 "metadata": {
  "kernelspec": {
   "display_name": "Python 3",
   "language": "python",
   "name": "python3"
  },
  "language_info": {
   "codemirror_mode": {
    "name": "ipython",
    "version": 3
   },
   "file_extension": ".py",
   "mimetype": "text/x-python",
   "name": "python",
   "nbconvert_exporter": "python",
   "pygments_lexer": "ipython3",
   "version": "3.4.4"
  }
 },
 "nbformat": 4,
 "nbformat_minor": 0
}
